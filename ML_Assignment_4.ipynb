{
 "cells": [
  {
   "cell_type": "code",
   "execution_count": 3,
   "id": "44bf6b2b-1b80-47ec-a9ea-c4f136914532",
   "metadata": {},
   "outputs": [],
   "source": [
    "import numpy as np\n",
    "import pandas as pd\n",
    "import matplotlib.pyplot as plt\n",
    "import seaborn as sns\n",
    "from sklearn.datasets import load_breast_cancer\n",
    "from sklearn.model_selection import train_test_split\n",
    "from sklearn.preprocessing import StandardScaler\n",
    "from sklearn.linear_model import LogisticRegression\n",
    "from sklearn.tree import DecisionTreeClassifier\n",
    "from sklearn.ensemble import RandomForestClassifier\n",
    "from sklearn.svm import SVC\n",
    "from sklearn.neighbors import KNeighborsClassifier\n",
    "from sklearn.metrics import accuracy_score, accuracy_score, precision_score, recall_score, f1_score, classification_report"
   ]
  },
  {
   "cell_type": "code",
   "execution_count": 4,
   "id": "909629ce-579a-4496-9226-cf86ee55a053",
   "metadata": {},
   "outputs": [],
   "source": [
    "# Load the dataset\n",
    "# The dataset is loaded and convert it into a Pandas DataFrame for better manipulation and visualization.\n",
    "\n",
    "data = load_breast_cancer()\n",
    "df = pd.DataFrame(data.data, columns=data.feature_names)\n",
    "df['target'] = data.target"
   ]
  },
  {
   "cell_type": "code",
   "execution_count": 5,
   "id": "f4f75dfa-138c-46d8-a471-798a8d3c5f65",
   "metadata": {},
   "outputs": [
    {
     "name": "stdout",
     "output_type": "stream",
     "text": [
      "Missing values: mean radius                0\n",
      "mean texture               0\n",
      "mean perimeter             0\n",
      "mean area                  0\n",
      "mean smoothness            0\n",
      "mean compactness           0\n",
      "mean concavity             0\n",
      "mean concave points        0\n",
      "mean symmetry              0\n",
      "mean fractal dimension     0\n",
      "radius error               0\n",
      "texture error              0\n",
      "perimeter error            0\n",
      "area error                 0\n",
      "smoothness error           0\n",
      "compactness error          0\n",
      "concavity error            0\n",
      "concave points error       0\n",
      "symmetry error             0\n",
      "fractal dimension error    0\n",
      "worst radius               0\n",
      "worst texture              0\n",
      "worst perimeter            0\n",
      "worst area                 0\n",
      "worst smoothness           0\n",
      "worst compactness          0\n",
      "worst concavity            0\n",
      "worst concave points       0\n",
      "worst symmetry             0\n",
      "worst fractal dimension    0\n",
      "target                     0\n",
      "dtype: int64\n"
     ]
    }
   ],
   "source": [
    "# Check for missing values\n",
    "# Missing values can affect model training.\n",
    "\n",
    "print(\"Missing values:\", df.isnull().sum())"
   ]
  },
  {
   "cell_type": "code",
   "execution_count": 6,
   "id": "89822d27-663e-4919-a9ba-029c119cf3f8",
   "metadata": {},
   "outputs": [],
   "source": [
    "# Feature Scaling\n",
    "# The dataset contains features with different ranges and magnitudes, which can negatively impact the models.\n",
    "# This helps ensure that features contribute equally to model training rather than being dominated by large values.\n",
    "\n",
    "scaler = StandardScaler()\n",
    "X = scaler.fit_transform(df.drop(columns=['target']))\n",
    "y = df['target']"
   ]
  },
  {
   "cell_type": "code",
   "execution_count": 7,
   "id": "3f335ea5-7ea1-4178-a2f2-b9fdeed321ee",
   "metadata": {},
   "outputs": [],
   "source": [
    "# Splitting data\n",
    "X_train, X_test, y_train, y_test = train_test_split(X, y, test_size=0.2, random_state=42)"
   ]
  },
  {
   "cell_type": "code",
   "execution_count": 8,
   "id": "48ac0069-d43d-4a9d-b166-5a0b622e3101",
   "metadata": {},
   "outputs": [],
   "source": [
    "# 1.Logistic Regression: A statistical model that predicts the probability of an instance belonging to a class using a sigmoid function.\n",
    "  #Works well for binary classification problems like this (Malignant vs. Benign).\n",
    "\n",
    "# 2.Decision Tree: A non-linear model that splits the dataset into smaller subsets using if-else conditions based on feature values.\n",
    "  #Handles non-linear relationships well.\n",
    "\n",
    "#3.Random Forest: An ensemble learning method that builds multiple decision trees and aggregates their predictions. \n",
    "  #Reduces overfitting and Handles missing and noisy data well.\n",
    "\n",
    "#4.Support Vector Machine: Finds the optimal hyperplane that maximally separates classes.\n",
    "  # Works well on high-dimensional data,  Effective for binary classification (like Malignant vs. Benign).\n",
    "\n",
    "#5.A non-parametric model that classifies a new data point based on the majority vote of its k nearest neighbors.\n",
    "  #Can capture complex decision boundaries, Works well when data is well-distributed and has distinguishable patterns.\n",
    "\n",
    "# Models\n",
    "models = {\n",
    "    \"Logistic Regression\": LogisticRegression(),\n",
    "    \"Decision Tree\": DecisionTreeClassifier(),\n",
    "    \"Random Forest\": RandomForestClassifier(),\n",
    "    \"Support Vector Machine\": SVC(),\n",
    "    \"k-NN\": KNeighborsClassifier()\n",
    "}"
   ]
  },
  {
   "cell_type": "code",
   "execution_count": 9,
   "id": "eae9ba5c-2772-4062-bafa-4ca40a6e9215",
   "metadata": {},
   "outputs": [
    {
     "name": "stdout",
     "output_type": "stream",
     "text": [
      "\n",
      "Logistic Regression Classification Report:\n",
      "               precision    recall  f1-score   support\n",
      "\n",
      "           0       0.98      0.95      0.96        43\n",
      "           1       0.97      0.99      0.98        71\n",
      "\n",
      "    accuracy                           0.97       114\n",
      "   macro avg       0.97      0.97      0.97       114\n",
      "weighted avg       0.97      0.97      0.97       114\n",
      "\n",
      "\n",
      "Decision Tree Classification Report:\n",
      "               precision    recall  f1-score   support\n",
      "\n",
      "           0       0.93      0.93      0.93        43\n",
      "           1       0.96      0.96      0.96        71\n",
      "\n",
      "    accuracy                           0.95       114\n",
      "   macro avg       0.94      0.94      0.94       114\n",
      "weighted avg       0.95      0.95      0.95       114\n",
      "\n",
      "\n",
      "Random Forest Classification Report:\n",
      "               precision    recall  f1-score   support\n",
      "\n",
      "           0       0.98      0.93      0.95        43\n",
      "           1       0.96      0.99      0.97        71\n",
      "\n",
      "    accuracy                           0.96       114\n",
      "   macro avg       0.97      0.96      0.96       114\n",
      "weighted avg       0.97      0.96      0.96       114\n",
      "\n",
      "\n",
      "Support Vector Machine Classification Report:\n",
      "               precision    recall  f1-score   support\n",
      "\n",
      "           0       0.98      0.95      0.96        43\n",
      "           1       0.97      0.99      0.98        71\n",
      "\n",
      "    accuracy                           0.97       114\n",
      "   macro avg       0.97      0.97      0.97       114\n",
      "weighted avg       0.97      0.97      0.97       114\n",
      "\n",
      "\n",
      "k-NN Classification Report:\n",
      "               precision    recall  f1-score   support\n",
      "\n",
      "           0       0.93      0.93      0.93        43\n",
      "           1       0.96      0.96      0.96        71\n",
      "\n",
      "    accuracy                           0.95       114\n",
      "   macro avg       0.94      0.94      0.94       114\n",
      "weighted avg       0.95      0.95      0.95       114\n",
      "\n"
     ]
    }
   ],
   "source": [
    "# Train and evaluate models\n",
    "metrics_results = {}\n",
    "for name, model in models.items():\n",
    "    model.fit(X_train, y_train)\n",
    "    y_pred = model.predict(X_test)\n",
    "    \n",
    "    metrics_results[name] = {\n",
    "        \"Accuracy\": accuracy_score(y_test, y_pred),\n",
    "        \"Precision\": precision_score(y_test, y_pred, average=\"weighted\"),\n",
    "        \"Recall\": recall_score(y_test, y_pred, average=\"weighted\"),\n",
    "        \"F1-score\": f1_score(y_test, y_pred, average=\"weighted\"),\n",
    "    }\n",
    "    \n",
    "    print(f\"\\n{name} Classification Report:\\n\", classification_report(y_test, y_pred))\n",
    "\n",
    "metrics_df = pd.DataFrame(metrics_results).T "
   ]
  },
  {
   "cell_type": "code",
   "execution_count": 10,
   "id": "993914ff-ff47-4e6b-a8c2-04fe3c8e5580",
   "metadata": {},
   "outputs": [
    {
     "data": {
      "text/plain": [
       "<Figure size 1200x600 with 0 Axes>"
      ]
     },
     "metadata": {},
     "output_type": "display_data"
    },
    {
     "data": {
      "image/png": "[encoded data removed]",
      "text/plain": [
       "<Figure size 640x480 with 1 Axes>"
      ]
     },
     "metadata": {},
     "output_type": "display_data"
    }
   ],
   "source": [
    "# Plot multiple metrics\n",
    "plt.figure(figsize=(12, 6))\n",
    "metrics_df.plot(kind=\"bar\")\n",
    "plt.title(\"Comparison of Classification Metrics\")\n",
    "plt.xlabel(\"Classifier\")\n",
    "plt.ylabel(\"Score\")\n",
    "plt.xticks(rotation=45)\n",
    "plt.legend(title=\"Metrics\")\n",
    "plt.show()"
   ]
  },
  {
   "cell_type": "code",
   "execution_count": 39,
   "id": "b23e6543-d956-49d1-8578-06e578a95465",
   "metadata": {},
   "outputs": [
    {
     "name": "stdout",
     "output_type": "stream",
     "text": [
      "\n",
      "Best Performing Model: Logistic Regression with Accuracy: 0.97\n",
      "Worst Performing Model: Decision Tree with Accuracy: 0.93\n"
     ]
    }
   ],
   "source": [
    "# Best and worst performing models\n",
    "best_model = metrics_df['Accuracy'].idxmax()\n",
    "worst_model = metrics_df['Accuracy'].idxmin()\n",
    "\n",
    "print(f\"\\nBest Performing Model: {best_model} with Accuracy: {metrics_df.loc[best_model, 'Accuracy']:.2f}\")\n",
    "print(f\"Worst Performing Model: {worst_model} with Accuracy: {metrics_df.loc[worst_model, 'Accuracy']:.2f}\")"
   ]
  },
  {
   "cell_type": "markdown",
   "id": "3badb993-800f-4d6f-a4ec-0afd4fe8ed9f",
   "metadata": {},
   "source": [
    "#Logistic Regression is the best performing model as it has the highest Accuracy: 0.97\n",
    "\n",
    "#Logistic Regression Works Well with Standardized Features"
   ]
  },
  {
   "cell_type": "markdown",
   "id": "2ec4def4-0f35-4f97-920a-f227e5dc25b7",
   "metadata": {},
   "source": [
    "#Decision Tree is the worst performing model as it has the lowest Accuracy: 0.93\n",
    "\n",
    "#Decision Tree overfits the training data, leading to a slight drop in accuracy.\n"
   ]
  },
  {
   "cell_type": "code",
   "execution_count": null,
   "id": "be73ebef-3a7b-42a4-bfdb-5da12044b6dd",
   "metadata": {},
   "outputs": [],
   "source": [
    "# All models performed well, with accuracy above 93%.\n",
    "# Random Forest and SVM also performed close to Logistic Regression.\n",
    "# Decision Tree performed the worst.\n",
    "# k-NN performed slightly lower "
   ]
  },
  {
   "cell_type": "code",
   "execution_count": null,
   "id": "5822f551-25bf-49a9-ba29-0ba2cdcd6e11",
   "metadata": {},
   "outputs": [],
   "source": []
  },
  {
   "cell_type": "code",
   "execution_count": null,
   "id": "12bf6bb5-07e7-4f6c-a255-59f5cb66ec6c",
   "metadata": {},
   "outputs": [],
   "source": []
  },
  {
   "cell_type": "code",
   "execution_count": null,
   "id": "caae3057-5416-4bcd-bac2-f13514b4f81c",
   "metadata": {},
   "outputs": [],
   "source": []
  },
  {
   "cell_type": "code",
   "execution_count": null,
   "id": "02c8fdb1-eeb7-45ea-8b65-1379f02f3f81",
   "metadata": {},
   "outputs": [],
   "source": []
  },
  {
   "cell_type": "code",
   "execution_count": null,
   "id": "aa795002-f311-4dcd-8a75-bbc1f9211235",
   "metadata": {},
   "outputs": [],
   "source": []
  },
  {
   "cell_type": "code",
   "execution_count": null,
   "id": "611cec15-1734-45bb-9d40-611ca8ffffa6",
   "metadata": {},
   "outputs": [],
   "source": []
  }
 ],
 "metadata": {
  "kernelspec": {
   "display_name": "Python [conda env:base] *",
   "language": "python",
   "name": "conda-base-py"
  },
  "language_info": {
   "codemirror_mode": {
    "name": "ipython",
    "version": 3
   },
   "file_extension": ".py",
   "mimetype": "text/x-python",
   "name": "python",
   "nbconvert_exporter": "python",
   "pygments_lexer": "ipython3",
   "version": "3.12.7"
  }
 },
 "nbformat": 4,
 "nbformat_minor": 5
}
